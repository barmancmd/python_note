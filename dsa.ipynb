{
 "cells": [
  {
   "cell_type": "markdown",
   "id": "7be05735",
   "metadata": {},
   "source": [
    "### Array"
   ]
  },
  {
   "cell_type": "markdown",
   "id": "fdc0936f",
   "metadata": {},
   "source": [
    "Arrays are a fundamental data structure in Python, and they support various operations. Here are some common array operations:\n",
    "\n",
    "**Create an Array:**"
   ]
  },
  {
   "cell_type": "code",
   "execution_count": 108,
   "id": "e2a4991d",
   "metadata": {},
   "outputs": [],
   "source": [
    "my_array = [1, 2, 3, 4, 5]"
   ]
  },
  {
   "cell_type": "markdown",
   "id": "c7afd883",
   "metadata": {},
   "source": [
    "**Access Elements:**"
   ]
  },
  {
   "cell_type": "code",
   "execution_count": 109,
   "id": "1e185d8a",
   "metadata": {},
   "outputs": [],
   "source": [
    "first_element = my_array[0]\n",
    "second_element = my_array[1]"
   ]
  },
  {
   "cell_type": "code",
   "execution_count": 110,
   "id": "1315a321",
   "metadata": {},
   "outputs": [
    {
     "name": "stdout",
     "output_type": "stream",
     "text": [
      "1\n",
      "2\n"
     ]
    }
   ],
   "source": [
    "print(first_element)\n",
    "print(second_element) "
   ]
  },
  {
   "cell_type": "markdown",
   "id": "4a274719",
   "metadata": {},
   "source": [
    "**Modify Elements:**"
   ]
  },
  {
   "cell_type": "code",
   "execution_count": 111,
   "id": "e2e86e27",
   "metadata": {},
   "outputs": [],
   "source": [
    "my_array[0] = 10\n",
    "my_array[2] = my_array[1] + my_array[3]"
   ]
  },
  {
   "cell_type": "code",
   "execution_count": 112,
   "id": "6da1f877",
   "metadata": {},
   "outputs": [
    {
     "name": "stdout",
     "output_type": "stream",
     "text": [
      "[10, 2, 6, 4, 5]\n"
     ]
    }
   ],
   "source": [
    "print(my_array)"
   ]
  },
  {
   "cell_type": "markdown",
   "id": "b8a619d1",
   "metadata": {},
   "source": [
    "**Slicing:**"
   ]
  },
  {
   "cell_type": "code",
   "execution_count": 113,
   "id": "6ed02379",
   "metadata": {},
   "outputs": [],
   "source": [
    "# Creates a subset from index 1 to 3\n",
    "subset = my_array[1:4]  "
   ]
  },
  {
   "cell_type": "code",
   "execution_count": 114,
   "id": "d49c11c2",
   "metadata": {},
   "outputs": [
    {
     "name": "stdout",
     "output_type": "stream",
     "text": [
      "[2, 6, 4]\n"
     ]
    }
   ],
   "source": [
    "print(subset)"
   ]
  },
  {
   "cell_type": "markdown",
   "id": "113bad79",
   "metadata": {},
   "source": [
    "**Append Element:**"
   ]
  },
  {
   "cell_type": "code",
   "execution_count": 115,
   "id": "a2d19939",
   "metadata": {},
   "outputs": [],
   "source": [
    "my_array.append(9)"
   ]
  },
  {
   "cell_type": "code",
   "execution_count": 116,
   "id": "e2430e3d",
   "metadata": {},
   "outputs": [
    {
     "name": "stdout",
     "output_type": "stream",
     "text": [
      "[10, 2, 6, 4, 5, 9]\n"
     ]
    }
   ],
   "source": [
    "print(my_array)"
   ]
  },
  {
   "cell_type": "markdown",
   "id": "61a3c5fd",
   "metadata": {},
   "source": [
    "**Insert Element at Specific Position:**"
   ]
  },
  {
   "cell_type": "code",
   "execution_count": 117,
   "id": "190be209",
   "metadata": {},
   "outputs": [],
   "source": [
    "# Insert 7 at index 2\n",
    "my_array.insert(2, 7)"
   ]
  },
  {
   "cell_type": "code",
   "execution_count": 119,
   "id": "cdb1db95",
   "metadata": {},
   "outputs": [
    {
     "name": "stdout",
     "output_type": "stream",
     "text": [
      "[10, 2, 7, 6, 4, 5, 9]\n"
     ]
    }
   ],
   "source": [
    "print(my_array)"
   ]
  },
  {
   "cell_type": "markdown",
   "id": "05bc5d79",
   "metadata": {},
   "source": [
    "**Remove Element:**"
   ]
  },
  {
   "cell_type": "code",
   "execution_count": 120,
   "id": "c07f3464",
   "metadata": {},
   "outputs": [],
   "source": [
    "my_array.remove(10)"
   ]
  },
  {
   "cell_type": "code",
   "execution_count": 121,
   "id": "61b238ee",
   "metadata": {},
   "outputs": [
    {
     "name": "stdout",
     "output_type": "stream",
     "text": [
      "[2, 7, 6, 4, 5, 9]\n"
     ]
    }
   ],
   "source": [
    "print(my_array)"
   ]
  },
  {
   "cell_type": "markdown",
   "id": "101abbf7",
   "metadata": {},
   "source": [
    "**Delete Element by Index:**"
   ]
  },
  {
   "cell_type": "code",
   "execution_count": 122,
   "id": "14cb151c",
   "metadata": {},
   "outputs": [],
   "source": [
    "# Deletes the element at index 2\n",
    "del my_array[2] "
   ]
  },
  {
   "cell_type": "code",
   "execution_count": 123,
   "id": "f4ef17ef",
   "metadata": {},
   "outputs": [
    {
     "name": "stdout",
     "output_type": "stream",
     "text": [
      "[2, 7, 4, 5, 9]\n"
     ]
    }
   ],
   "source": [
    "print(my_array)"
   ]
  },
  {
   "cell_type": "markdown",
   "id": "cfa5f383",
   "metadata": {},
   "source": [
    "**Length of Array:**"
   ]
  },
  {
   "cell_type": "code",
   "execution_count": 124,
   "id": "2654aa17",
   "metadata": {},
   "outputs": [],
   "source": [
    "length = len(my_array)"
   ]
  },
  {
   "cell_type": "code",
   "execution_count": 125,
   "id": "d8fefdb0",
   "metadata": {},
   "outputs": [
    {
     "name": "stdout",
     "output_type": "stream",
     "text": [
      "5\n"
     ]
    }
   ],
   "source": [
    "print(length)"
   ]
  },
  {
   "cell_type": "markdown",
   "id": "f2d0f742",
   "metadata": {},
   "source": [
    "**Check if Element is in Array:**"
   ]
  },
  {
   "cell_type": "code",
   "execution_count": 128,
   "id": "ae3365b4",
   "metadata": {},
   "outputs": [],
   "source": [
    "element_exists = 10 in my_array"
   ]
  },
  {
   "cell_type": "code",
   "execution_count": 129,
   "id": "5c974155",
   "metadata": {},
   "outputs": [
    {
     "name": "stdout",
     "output_type": "stream",
     "text": [
      "False\n"
     ]
    }
   ],
   "source": [
    "print(element_exists)"
   ]
  },
  {
   "cell_type": "markdown",
   "id": "dbc85960",
   "metadata": {},
   "source": [
    "**Concatenate Arrays:**"
   ]
  },
  {
   "cell_type": "code",
   "execution_count": 130,
   "id": "1beb038a",
   "metadata": {},
   "outputs": [],
   "source": [
    "new_array = my_array + [8, 9, 10]"
   ]
  },
  {
   "cell_type": "code",
   "execution_count": 131,
   "id": "6fe6b5de",
   "metadata": {},
   "outputs": [
    {
     "name": "stdout",
     "output_type": "stream",
     "text": [
      "[2, 7, 4, 5, 9, 8, 9, 10]\n"
     ]
    }
   ],
   "source": [
    "print(new_array)"
   ]
  },
  {
   "cell_type": "markdown",
   "id": "c2f6364d",
   "metadata": {},
   "source": [
    "**Extend Array:**"
   ]
  },
  {
   "cell_type": "code",
   "execution_count": 132,
   "id": "0cccf6e8",
   "metadata": {},
   "outputs": [],
   "source": [
    "my_array.extend([11, 12, 13])"
   ]
  },
  {
   "cell_type": "code",
   "execution_count": 133,
   "id": "bd38be56",
   "metadata": {},
   "outputs": [
    {
     "name": "stdout",
     "output_type": "stream",
     "text": [
      "[2, 7, 4, 5, 9, 11, 12, 13]\n"
     ]
    }
   ],
   "source": [
    "print(my_array)"
   ]
  },
  {
   "cell_type": "markdown",
   "id": "6c2fcd94",
   "metadata": {},
   "source": [
    "**Sorting:**"
   ]
  },
  {
   "cell_type": "code",
   "execution_count": 134,
   "id": "67535a91",
   "metadata": {},
   "outputs": [],
   "source": [
    "# In-place sorting\n",
    "sorted_array = sorted(my_array)\n",
    "my_array.sort()  "
   ]
  },
  {
   "cell_type": "code",
   "execution_count": 136,
   "id": "660de35c",
   "metadata": {},
   "outputs": [
    {
     "name": "stdout",
     "output_type": "stream",
     "text": [
      "[2, 4, 5, 7, 9, 11, 12, 13]\n"
     ]
    }
   ],
   "source": [
    "print(sorted_array)"
   ]
  },
  {
   "cell_type": "markdown",
   "id": "12bbda54",
   "metadata": {},
   "source": [
    "**Reverse:**"
   ]
  },
  {
   "cell_type": "code",
   "execution_count": 137,
   "id": "78d5e11a",
   "metadata": {},
   "outputs": [],
   "source": [
    "# In-place reverse\n",
    "reversed_array = my_array[::-1]\n",
    "my_array.reverse()  "
   ]
  },
  {
   "cell_type": "code",
   "execution_count": 138,
   "id": "2f390352",
   "metadata": {},
   "outputs": [
    {
     "name": "stdout",
     "output_type": "stream",
     "text": [
      "[13, 12, 11, 9, 7, 5, 4, 2]\n"
     ]
    }
   ],
   "source": [
    "print(reversed_array)"
   ]
  },
  {
   "cell_type": "markdown",
   "id": "ea1f6143",
   "metadata": {},
   "source": [
    "**Find Index of Element:**"
   ]
  },
  {
   "cell_type": "code",
   "execution_count": 147,
   "id": "189c15be",
   "metadata": {},
   "outputs": [],
   "source": [
    "index_of = my_array.index(7)"
   ]
  },
  {
   "cell_type": "code",
   "execution_count": 148,
   "id": "0af95ebb",
   "metadata": {},
   "outputs": [
    {
     "data": {
      "text/plain": [
       "4"
      ]
     },
     "execution_count": 148,
     "metadata": {},
     "output_type": "execute_result"
    }
   ],
   "source": [
    "index_of"
   ]
  },
  {
   "cell_type": "markdown",
   "id": "549aa969",
   "metadata": {},
   "source": [
    "**Count Occurrences:**"
   ]
  },
  {
   "cell_type": "code",
   "execution_count": 151,
   "id": "74ff188d",
   "metadata": {},
   "outputs": [],
   "source": [
    "count_of = my_array.count(2)"
   ]
  },
  {
   "cell_type": "code",
   "execution_count": 152,
   "id": "11ffa6e9",
   "metadata": {},
   "outputs": [
    {
     "name": "stdout",
     "output_type": "stream",
     "text": [
      "1\n"
     ]
    }
   ],
   "source": [
    "print(count_of)"
   ]
  },
  {
   "cell_type": "markdown",
   "id": "fbaa95dc",
   "metadata": {},
   "source": [
    "**Copy Array:**"
   ]
  },
  {
   "cell_type": "code",
   "execution_count": 154,
   "id": "21e0b723",
   "metadata": {},
   "outputs": [],
   "source": [
    "copied_array = my_array.copy()"
   ]
  },
  {
   "cell_type": "code",
   "execution_count": 155,
   "id": "d225d5ff",
   "metadata": {},
   "outputs": [
    {
     "name": "stdout",
     "output_type": "stream",
     "text": [
      "[13, 12, 11, 9, 7, 5, 4, 2]\n"
     ]
    }
   ],
   "source": [
    "print(copied_array)"
   ]
  },
  {
   "cell_type": "markdown",
   "id": "db3ed2f5",
   "metadata": {},
   "source": [
    "**Find Index of Element (with Start and End Index):**"
   ]
  },
  {
   "cell_type": "code",
   "execution_count": 168,
   "id": "f36db167",
   "metadata": {},
   "outputs": [],
   "source": [
    "index_of = my_array.index(5)\n",
    "index_of_5_from_index_2 = my_array.index(5, 2)"
   ]
  },
  {
   "cell_type": "code",
   "execution_count": 169,
   "id": "a0460796",
   "metadata": {},
   "outputs": [
    {
     "name": "stdout",
     "output_type": "stream",
     "text": [
      "5\n",
      "5\n"
     ]
    }
   ],
   "source": [
    "print(index_of)\n",
    "print(index_of_5_from_index_2)"
   ]
  },
  {
   "cell_type": "markdown",
   "id": "2229f06d",
   "metadata": {},
   "source": [
    "**Pop Element:**"
   ]
  },
  {
   "cell_type": "code",
   "execution_count": 171,
   "id": "1b35783a",
   "metadata": {},
   "outputs": [],
   "source": [
    "popped_element = my_array.pop()\n",
    "popped_element_at_index = my_array.pop(2)"
   ]
  },
  {
   "cell_type": "code",
   "execution_count": 172,
   "id": "01d688ab",
   "metadata": {},
   "outputs": [
    {
     "name": "stdout",
     "output_type": "stream",
     "text": [
      "4\n",
      "9\n"
     ]
    }
   ],
   "source": [
    "print(popped_element)\n",
    "print(popped_element_at_index)"
   ]
  },
  {
   "cell_type": "code",
   "execution_count": 173,
   "id": "94d9f125",
   "metadata": {},
   "outputs": [
    {
     "name": "stdout",
     "output_type": "stream",
     "text": [
      "[13, 12, 7, 5]\n"
     ]
    }
   ],
   "source": [
    "print(my_array)"
   ]
  },
  {
   "cell_type": "markdown",
   "id": "44ecd108",
   "metadata": {},
   "source": [
    "**Check if Array is Empty:**"
   ]
  },
  {
   "cell_type": "code",
   "execution_count": 174,
   "id": "671ed258",
   "metadata": {},
   "outputs": [],
   "source": [
    "is_empty = not my_array"
   ]
  },
  {
   "cell_type": "code",
   "execution_count": 175,
   "id": "4c85c943",
   "metadata": {},
   "outputs": [
    {
     "name": "stdout",
     "output_type": "stream",
     "text": [
      "False\n"
     ]
    }
   ],
   "source": [
    "print(is_empty)"
   ]
  },
  {
   "cell_type": "markdown",
   "id": "9a1ea422",
   "metadata": {},
   "source": [
    "**Resize Array:**"
   ]
  },
  {
   "cell_type": "code",
   "execution_count": 176,
   "id": "bfda1830",
   "metadata": {},
   "outputs": [],
   "source": [
    "my_array += [None] * 5"
   ]
  },
  {
   "cell_type": "code",
   "execution_count": 177,
   "id": "9b7b8f90",
   "metadata": {},
   "outputs": [
    {
     "name": "stdout",
     "output_type": "stream",
     "text": [
      "[13, 12, 7, 5, None, None, None, None, None]\n"
     ]
    }
   ],
   "source": [
    "print(my_array)"
   ]
  },
  {
   "cell_type": "markdown",
   "id": "9d7e7d76",
   "metadata": {},
   "source": [
    "**List Comprehension:**  \n",
    "Explanation: List comprehensions provide a concise way to create new lists based on existing ones. This example squares each element in the dynamic array"
   ]
  },
  {
   "cell_type": "code",
   "execution_count": 180,
   "id": "8448a786",
   "metadata": {},
   "outputs": [],
   "source": [
    "array = [1,2,3,4,5]"
   ]
  },
  {
   "cell_type": "code",
   "execution_count": 183,
   "id": "11548354",
   "metadata": {},
   "outputs": [],
   "source": [
    "squared_elements = [x**2 for x in array]"
   ]
  },
  {
   "cell_type": "code",
   "execution_count": 184,
   "id": "2494378f",
   "metadata": {},
   "outputs": [
    {
     "name": "stdout",
     "output_type": "stream",
     "text": [
      "[1, 4, 9, 16, 25]\n"
     ]
    }
   ],
   "source": [
    "print(squared_elements)"
   ]
  },
  {
   "cell_type": "markdown",
   "id": "70b9880d",
   "metadata": {},
   "source": [
    "**Enumerate Array:**  \n",
    "Explanation: The enumerate() function adds a counter to the array elements, returning them as tuples. It's useful for obtaining both the index and the value during iteration."
   ]
  },
  {
   "cell_type": "code",
   "execution_count": 185,
   "id": "6c0bc2c1",
   "metadata": {},
   "outputs": [
    {
     "name": "stdout",
     "output_type": "stream",
     "text": [
      "Index: 0, Value: 1\n",
      "Index: 1, Value: 2\n",
      "Index: 2, Value: 3\n",
      "Index: 3, Value: 4\n",
      "Index: 4, Value: 5\n"
     ]
    }
   ],
   "source": [
    "for index, value in enumerate(array):\n",
    "    print(f\"Index: {index}, Value: {value}\")"
   ]
  },
  {
   "cell_type": "markdown",
   "id": "bdd0d095",
   "metadata": {},
   "source": [
    "**Clear Array:**"
   ]
  },
  {
   "cell_type": "code",
   "execution_count": 188,
   "id": "33487f3d",
   "metadata": {},
   "outputs": [],
   "source": [
    "array.clear()"
   ]
  },
  {
   "cell_type": "code",
   "execution_count": 189,
   "id": "4c17aabd",
   "metadata": {},
   "outputs": [
    {
     "name": "stdout",
     "output_type": "stream",
     "text": [
      "[]\n"
     ]
    }
   ],
   "source": [
    "print(array)"
   ]
  },
  {
   "cell_type": "markdown",
   "id": "1dc09374",
   "metadata": {},
   "source": [
    "### Linklist"
   ]
  },
  {
   "cell_type": "code",
   "execution_count": 391,
   "id": "5abd7343",
   "metadata": {},
   "outputs": [],
   "source": [
    "# Node Definition:\n",
    "class Node:\n",
    "    def __init__(self, data):\n",
    "        self.data = data\n",
    "        self.next = None\n",
    "        \n",
    "#Create an Empty Linked List:\n",
    "class LinkedList:\n",
    "    def __init__(self):\n",
    "        self.head = None\n",
    "        \n",
    "#Insert at the Beginning:\n",
    "    def insert_at_beginning(self, data):\n",
    "        new_node = Node(data)\n",
    "        new_node.next = self.head\n",
    "        self.head = new_node\n",
    "\n",
    "#Insert at the End:\n",
    "    def insert_at_end(self, data):\n",
    "        new_node = Node(data)\n",
    "        if not self.head:\n",
    "            self.head = new_node\n",
    "            return\n",
    "\n",
    "        current = self.head\n",
    "        while current.next:\n",
    "            current = current.next\n",
    "        current.next = new_node\n",
    "\n",
    "#Insert at a Specific Position:\n",
    "    def insert_at_position(self, data, position):\n",
    "        new_node = Node(data)\n",
    "        if position == 0:\n",
    "            new_node.next = self.head\n",
    "            self.head = new_node\n",
    "            return\n",
    "\n",
    "        current = self.head\n",
    "        for _ in range(position - 1):\n",
    "            if not current:\n",
    "                raise ValueError(\"Position out of bounds\")\n",
    "            current = current.next\n",
    "\n",
    "        new_node.next = current.next\n",
    "        current.next = new_node\n",
    "\n",
    "#Delete at the Beginning:\n",
    "    def delete_at_beginning(self):\n",
    "        if not self.head:\n",
    "            return\n",
    "        self.head = self.head.next\n",
    "\n",
    "#Delete at the End:\n",
    "    def delete_at_end(self):\n",
    "        if not self.head:\n",
    "            return\n",
    "        if not self.head.next:\n",
    "            self.head = None\n",
    "            return\n",
    "\n",
    "        current = self.head\n",
    "        while current.next.next:\n",
    "            current = current.next\n",
    "        current.next = None\n",
    "#Delete at a Specific Position:\n",
    "    def delete_at_position(self, position):\n",
    "        if not self.head:\n",
    "            return\n",
    "        if position == 0:\n",
    "            self.head = self.head.next\n",
    "            return\n",
    "\n",
    "        current = self.head\n",
    "        for _ in range(position - 1):\n",
    "            if not current.next:\n",
    "                raise ValueError(\"Position out of bounds\")\n",
    "            current = current.next\n",
    "\n",
    "        current.next = current.next.next\n",
    "        \n",
    "#Search for an Element:\n",
    "    def search(self, data):\n",
    "        current = self.head\n",
    "        while current:\n",
    "            if current.data == data:\n",
    "                return True\n",
    "            current = current.next\n",
    "        return False\n",
    "\n",
    "#Reverse a Linked List:\n",
    "    def reverse(self):\n",
    "        prev = None\n",
    "        current = self.head\n",
    "        while current:\n",
    "            next_node = current.next\n",
    "            current.next = prev\n",
    "            prev = current\n",
    "            current = next_node\n",
    "        self.head = prev\n",
    "\n",
    "#Detect a Cycle in a Linked List:\n",
    "    def has_cycle(self):\n",
    "        slow = self.head\n",
    "        fast = self.head\n",
    "        while fast and fast.next:\n",
    "            slow = slow.next\n",
    "            fast = fast.next.next\n",
    "            if slow == fast:\n",
    "                return True\n",
    "        return False\n",
    "\n",
    "#Find the Middle of a Linked List:\n",
    "    def find_middle(self):\n",
    "        slow = self.head\n",
    "        fast = self.head\n",
    "        while fast and fast.next:\n",
    "            slow = slow.next\n",
    "            fast = fast.next.next\n",
    "        return slow.data\n",
    "\n",
    "#Merge Two Sorted Linked Lists:\n",
    "    def merge_sorted(self, other):\n",
    "        dummy = Node(0)\n",
    "        current = dummy\n",
    "        while self.head and other.head:\n",
    "            if self.head.data < other.head.data:\n",
    "                current.next = self.head\n",
    "                self.head = self.head.next\n",
    "            else:\n",
    "                current.next = other.head\n",
    "                other.head = other.head.next\n",
    "            current = current.next\n",
    "        current.next = self.head or other.head\n",
    "        self.head = dummy.next\n",
    "\n",
    "\n",
    "#Print the Linked List:\n",
    "    def print_list(self):\n",
    "        current = self.head\n",
    "        while current:\n",
    "            print(current.data, end=\" \")\n",
    "            current = current.next\n",
    "        print()\n"
   ]
  },
  {
   "cell_type": "code",
   "execution_count": 392,
   "id": "15a90619",
   "metadata": {},
   "outputs": [],
   "source": [
    "ll = LinkedList()"
   ]
  },
  {
   "cell_type": "code",
   "execution_count": 393,
   "id": "06100847",
   "metadata": {},
   "outputs": [
    {
     "name": "stdout",
     "output_type": "stream",
     "text": [
      "<__main__.LinkedList object at 0x0000015EE76E1100>\n"
     ]
    }
   ],
   "source": [
    "print(ll)"
   ]
  },
  {
   "cell_type": "code",
   "execution_count": 394,
   "id": "531ec919",
   "metadata": {},
   "outputs": [],
   "source": [
    "ll.insert_at_beginning(1)\n",
    "ll.insert_at_end(5)"
   ]
  },
  {
   "cell_type": "code",
   "execution_count": 395,
   "id": "2f8c6791",
   "metadata": {},
   "outputs": [
    {
     "name": "stdout",
     "output_type": "stream",
     "text": [
      "1 5 \n"
     ]
    }
   ],
   "source": [
    "ll.print_list()"
   ]
  },
  {
   "cell_type": "code",
   "execution_count": 396,
   "id": "0040ef0a",
   "metadata": {},
   "outputs": [],
   "source": [
    "ll.insert_at_position(2,1)"
   ]
  },
  {
   "cell_type": "code",
   "execution_count": 397,
   "id": "4a82b1ec",
   "metadata": {},
   "outputs": [
    {
     "name": "stdout",
     "output_type": "stream",
     "text": [
      "1 2 5 \n"
     ]
    }
   ],
   "source": [
    "ll.print_list()"
   ]
  },
  {
   "cell_type": "code",
   "execution_count": 398,
   "id": "9a8b1276",
   "metadata": {},
   "outputs": [],
   "source": [
    "ll.insert_at_position(6, 3)\n",
    "ll.insert_at_position(3, 2)"
   ]
  },
  {
   "cell_type": "code",
   "execution_count": 399,
   "id": "ef1615cd",
   "metadata": {},
   "outputs": [
    {
     "name": "stdout",
     "output_type": "stream",
     "text": [
      "1 2 3 5 6 \n"
     ]
    }
   ],
   "source": [
    "ll.print_list()"
   ]
  },
  {
   "cell_type": "code",
   "execution_count": 400,
   "id": "b492db71",
   "metadata": {},
   "outputs": [],
   "source": [
    "ll.delete_at_beginning()\n",
    "ll.delete_at_end()"
   ]
  },
  {
   "cell_type": "code",
   "execution_count": 401,
   "id": "06df7916",
   "metadata": {},
   "outputs": [
    {
     "name": "stdout",
     "output_type": "stream",
     "text": [
      "2 3 5 \n"
     ]
    }
   ],
   "source": [
    "ll.print_list()"
   ]
  },
  {
   "cell_type": "code",
   "execution_count": 402,
   "id": "9409ba1d",
   "metadata": {},
   "outputs": [],
   "source": [
    "ll.delete_at_position(1)"
   ]
  },
  {
   "cell_type": "code",
   "execution_count": 403,
   "id": "2741a7f6",
   "metadata": {},
   "outputs": [
    {
     "name": "stdout",
     "output_type": "stream",
     "text": [
      "2 5 \n"
     ]
    }
   ],
   "source": [
    "ll.print_list()"
   ]
  },
  {
   "cell_type": "code",
   "execution_count": 404,
   "id": "fb446c2e",
   "metadata": {},
   "outputs": [
    {
     "data": {
      "text/plain": [
       "True"
      ]
     },
     "execution_count": 404,
     "metadata": {},
     "output_type": "execute_result"
    }
   ],
   "source": [
    "ll.search(2)"
   ]
  },
  {
   "cell_type": "code",
   "execution_count": 405,
   "id": "55977f12",
   "metadata": {},
   "outputs": [
    {
     "data": {
      "text/plain": [
       "False"
      ]
     },
     "execution_count": 405,
     "metadata": {},
     "output_type": "execute_result"
    }
   ],
   "source": [
    "ll.search(9)"
   ]
  },
  {
   "cell_type": "code",
   "execution_count": 406,
   "id": "cb42bbd4",
   "metadata": {},
   "outputs": [],
   "source": [
    "ll.insert_at_beginning(1)\n",
    "ll.insert_at_beginning(6)\n",
    "ll.insert_at_end(3)"
   ]
  },
  {
   "cell_type": "code",
   "execution_count": 407,
   "id": "d92ea95f",
   "metadata": {},
   "outputs": [
    {
     "name": "stdout",
     "output_type": "stream",
     "text": [
      "6 1 2 5 3 \n"
     ]
    }
   ],
   "source": [
    "ll.print_list()"
   ]
  },
  {
   "cell_type": "code",
   "execution_count": 408,
   "id": "f71c47ad",
   "metadata": {},
   "outputs": [
    {
     "name": "stdout",
     "output_type": "stream",
     "text": [
      "3 5 2 1 6 \n"
     ]
    }
   ],
   "source": [
    "ll.reverse()\n",
    "ll.print_list()"
   ]
  },
  {
   "cell_type": "code",
   "execution_count": 409,
   "id": "cbca61b4",
   "metadata": {},
   "outputs": [
    {
     "name": "stdout",
     "output_type": "stream",
     "text": [
      "2\n"
     ]
    }
   ],
   "source": [
    "mid = ll.find_middle()\n",
    "print(mid)"
   ]
  },
  {
   "cell_type": "code",
   "execution_count": 413,
   "id": "92d79639",
   "metadata": {},
   "outputs": [
    {
     "name": "stdout",
     "output_type": "stream",
     "text": [
      "3 5 2 1 6 \n"
     ]
    }
   ],
   "source": [
    "ll.print_list()"
   ]
  },
  {
   "cell_type": "code",
   "execution_count": 414,
   "id": "09790488",
   "metadata": {},
   "outputs": [
    {
     "ename": "AttributeError",
     "evalue": "'int' object has no attribute 'head'",
     "output_type": "error",
     "traceback": [
      "\u001b[1;31m---------------------------------------------------------------------------\u001b[0m",
      "\u001b[1;31mAttributeError\u001b[0m                            Traceback (most recent call last)",
      "Input \u001b[1;32mIn [414]\u001b[0m, in \u001b[0;36m<cell line: 1>\u001b[1;34m()\u001b[0m\n\u001b[1;32m----> 1\u001b[0m sort \u001b[38;5;241m=\u001b[39m \u001b[43mll\u001b[49m\u001b[38;5;241;43m.\u001b[39;49m\u001b[43mmerge_sorted\u001b[49m\u001b[43m(\u001b[49m\u001b[38;5;241;43m2\u001b[39;49m\u001b[43m)\u001b[49m\n\u001b[0;32m      2\u001b[0m \u001b[38;5;28mprint\u001b[39m(sort)\n",
      "Input \u001b[1;32mIn [391]\u001b[0m, in \u001b[0;36mLinkedList.merge_sorted\u001b[1;34m(self, other)\u001b[0m\n\u001b[0;32m    123\u001b[0m dummy \u001b[38;5;241m=\u001b[39m Node(\u001b[38;5;241m0\u001b[39m)\n\u001b[0;32m    124\u001b[0m current \u001b[38;5;241m=\u001b[39m dummy\n\u001b[1;32m--> 125\u001b[0m \u001b[38;5;28;01mwhile\u001b[39;00m \u001b[38;5;28mself\u001b[39m\u001b[38;5;241m.\u001b[39mhead \u001b[38;5;129;01mand\u001b[39;00m \u001b[43mother\u001b[49m\u001b[38;5;241;43m.\u001b[39;49m\u001b[43mhead\u001b[49m:\n\u001b[0;32m    126\u001b[0m     \u001b[38;5;28;01mif\u001b[39;00m \u001b[38;5;28mself\u001b[39m\u001b[38;5;241m.\u001b[39mhead\u001b[38;5;241m.\u001b[39mdata \u001b[38;5;241m<\u001b[39m other\u001b[38;5;241m.\u001b[39mhead\u001b[38;5;241m.\u001b[39mdata:\n\u001b[0;32m    127\u001b[0m         current\u001b[38;5;241m.\u001b[39mnext \u001b[38;5;241m=\u001b[39m \u001b[38;5;28mself\u001b[39m\u001b[38;5;241m.\u001b[39mhead\n",
      "\u001b[1;31mAttributeError\u001b[0m: 'int' object has no attribute 'head'"
     ]
    }
   ],
   "source": [
    "sort = ll.merge_sorted(2)\n",
    "print(sort)"
   ]
  },
  {
   "cell_type": "code",
   "execution_count": null,
   "id": "6a4e86f3",
   "metadata": {},
   "outputs": [],
   "source": []
  },
  {
   "cell_type": "code",
   "execution_count": null,
   "id": "05067337",
   "metadata": {},
   "outputs": [],
   "source": []
  }
 ],
 "metadata": {
  "kernelspec": {
   "display_name": "Python 3 (ipykernel)",
   "language": "python",
   "name": "python3"
  },
  "language_info": {
   "codemirror_mode": {
    "name": "ipython",
    "version": 3
   },
   "file_extension": ".py",
   "mimetype": "text/x-python",
   "name": "python",
   "nbconvert_exporter": "python",
   "pygments_lexer": "ipython3",
   "version": "3.9.12"
  }
 },
 "nbformat": 4,
 "nbformat_minor": 5
}
