{
 "cells": [
  {
   "cell_type": "markdown",
   "id": "9efd51f3",
   "metadata": {},
   "source": [
    "### <u>Headers: </u> \n",
    "\n",
    "# Header 1\n",
    "## Header 2\n",
    "### Header 3\n",
    "#### Header 4\n"
   ]
  },
  {
   "cell_type": "markdown",
   "id": "ee75bd41",
   "metadata": {},
   "source": [
    "### <u>Emphasis:</u>\n",
    "\n",
    "*italic*  \n",
    "**bold**"
   ]
  },
  {
   "cell_type": "markdown",
   "id": "dd903b04",
   "metadata": {},
   "source": [
    "### <u>Lists:</u>\n",
    "**Unordered List:**\n",
    "- Item 1\n",
    "- Item 2\n",
    "  - Subitem 2.1\n",
    "  - Subitem 2.2"
   ]
  },
  {
   "cell_type": "markdown",
   "id": "66917717",
   "metadata": {},
   "source": [
    "### <u>Ordered List:</u>      \n",
    "1. First item\n",
    "2. Second item\n",
    "   1. Subitem 2.1\n",
    "   2. Subitem 2.2"
   ]
  },
  {
   "cell_type": "markdown",
   "id": "f79a6bdc",
   "metadata": {},
   "source": [
    "### <U>Links:</U>\n",
    "\n",
    "[OpenAI](https://www.openai.com/)"
   ]
  },
  {
   "cell_type": "markdown",
   "id": "04a29156",
   "metadata": {},
   "source": [
    "### <U>Images:</U>\n",
    "\n",
    "![Alt Text](image_url)"
   ]
  },
  {
   "cell_type": "markdown",
   "id": "dd958807",
   "metadata": {},
   "source": [
    "### <U>Code: </U>\n",
    "\n",
    "`inline code`"
   ]
  },
  {
   "cell_type": "markdown",
   "id": "3ebe3f3d",
   "metadata": {},
   "source": [
    "### <U>Code Blocks:</U>\n",
    "\n",
    "```python  \n",
    "def example_function():  \n",
    "    print(\"Hello, Jupyter!\")```  "
   ]
  },
  {
   "cell_type": "markdown",
   "id": "f1ee911d",
   "metadata": {},
   "source": [
    "\n",
    "### Math Equations:\n",
    "\n",
    "$E=mc^2$  \n",
    "$(a+b)^2 = a^2 + 2ab + b^2$"
   ]
  },
  {
   "cell_type": "markdown",
   "id": "f9dcfbbb",
   "metadata": {},
   "source": [
    "### <U>Horizontal Line:</U>\n",
    "======================="
   ]
  },
  {
   "cell_type": "markdown",
   "id": "0120d7b7",
   "metadata": {},
   "source": [
    "### <U>Blockquotes:</U>\n",
    "\n",
    "> This is a blockquote."
   ]
  },
  {
   "cell_type": "markdown",
   "id": "4f089cfe",
   "metadata": {},
   "source": [
    "### <U>Table:</U>\n",
    "\n",
    "| Header 1 | Header 2 |\n",
    "|:----------:|:----------:|\n",
    "| Row 1, Col 1 | Row 1, Col 2 |\n",
    "| Row 2, Col 1 | Row 2, Col 2 |\n"
   ]
  },
  {
   "cell_type": "markdown",
   "id": "2dcb3a53",
   "metadata": {},
   "source": [
    "### <U>Line Break:</U>\n",
    "\n",
    "This is a line break.<br>\n",
    "This is on a new line."
   ]
  },
  {
   "cell_type": "markdown",
   "id": "5c342a19",
   "metadata": {},
   "source": [
    "### <U>HTML Elements: </U> \n",
    "You can also use HTML elements within Markdown cells.\n",
    "\n",
    "<font color='red'>This text is red.</font>"
   ]
  },
  {
   "cell_type": "markdown",
   "id": "de3237a0",
   "metadata": {},
   "source": [
    "### Task Lists:\n",
    "\n",
    "- [x] Task 1\n",
    "- [ ] Task 2\n",
    "- [ ] Task 3"
   ]
  },
  {
   "cell_type": "markdown",
   "id": "97129651",
   "metadata": {},
   "source": [
    "### <U>Strikethrough:</U>\n",
    "\n",
    "~~This is strikethrough text.~~"
   ]
  },
  {
   "cell_type": "markdown",
   "id": "0125d685",
   "metadata": {},
   "source": [
    "### Definition Lists:\n",
    "\n",
    "Term 1\n",
    ": Definition 1\n",
    "\n",
    "Term 2\n",
    ": Definition 2"
   ]
  },
  {
   "cell_type": "markdown",
   "id": "c3e2471f",
   "metadata": {},
   "source": [
    "### <U>Footnotes:</U>\n",
    "\n",
    "This is a sentence with a footnote[^1].\n",
    "\n",
    "[^1]: This is the footnote."
   ]
  },
  {
   "cell_type": "markdown",
   "id": "31ba7e97",
   "metadata": {},
   "source": [
    "### <U>LaTeX Equations:</U>\n",
    "\n",
    "$$\n",
    "\\int_{a}^{b} x^2 \\,dx\n",
    "$$"
   ]
  },
  {
   "cell_type": "markdown",
   "id": "6949f0e9",
   "metadata": {},
   "source": [
    "### Code Output:\n",
    "\n",
    "The output of the code: `print(\"Hello, Jupyter!\")`"
   ]
  },
  {
   "cell_type": "markdown",
   "id": "fdc85376",
   "metadata": {},
   "source": [
    "### Centered Text:\n",
    "\n",
    "<center>This text is centered.</center>"
   ]
  },
  {
   "cell_type": "markdown",
   "id": "7069b7d2",
   "metadata": {},
   "source": [
    "### Video Embedding:\n",
    "\n",
    "[![Video](https://img.youtube.com/vi/YOUTUBE_VIDEO_ID/0.jpg)](https://www.youtube.com/watch?v=rfscVS0vtbw)\n"
   ]
  },
  {
   "cell_type": "code",
   "execution_count": null,
   "id": "ff81d45c",
   "metadata": {},
   "outputs": [],
   "source": []
  }
 ],
 "metadata": {
  "kernelspec": {
   "display_name": "Python 3 (ipykernel)",
   "language": "python",
   "name": "python3"
  },
  "language_info": {
   "codemirror_mode": {
    "name": "ipython",
    "version": 3
   },
   "file_extension": ".py",
   "mimetype": "text/x-python",
   "name": "python",
   "nbconvert_exporter": "python",
   "pygments_lexer": "ipython3",
   "version": "3.10.9"
  }
 },
 "nbformat": 4,
 "nbformat_minor": 5
}
